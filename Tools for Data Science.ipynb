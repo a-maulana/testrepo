{
  "metadata": {
    "kernelspec": {
      "name": "python",
      "display_name": "Pyolite",
      "language": "python"
    },
    "language_info": {
      "codemirror_mode": {
        "name": "python",
        "version": 3
      },
      "file_extension": ".py",
      "mimetype": "text/x-python",
      "name": "python",
      "nbconvert_exporter": "python",
      "pygments_lexer": "ipython3",
      "version": "3.8"
    }
  },
  "nbformat_minor": 4,
  "nbformat": 4,
  "cells": [
    {
      "cell_type": "markdown",
      "source": "<center>\n    <img src=\"https://s3-api.us-geo.objectstorage.softlayer.net/cf-courses-data/CognitiveClass/Logos/organization_logo/organization_logo.png\" width=\"300\" alt=\"cognitiveclass.ai logo\"  />\n</center>\n",
      "metadata": {}
    },
    {
      "cell_type": "markdown",
      "source": "#### Add your code below following the instructions given in the course\n",
      "metadata": {}
    },
    {
      "cell_type": "markdown",
      "source": "# My Jupyter Notebook on IBM Watson Studio",
      "metadata": {}
    },
    {
      "cell_type": "markdown",
      "source": "**Abdul Aziz Maulana**\n\nI'm an engineer.",
      "metadata": {}
    },
    {
      "cell_type": "markdown",
      "source": "_Data science is very useful and learning Jupyter Notebook is very handy._",
      "metadata": {}
    },
    {
      "cell_type": "markdown",
      "source": "### The following code is just a simple calculation",
      "metadata": {}
    },
    {
      "cell_type": "code",
      "source": "a = 2\nb = 3\na + b",
      "metadata": {
        "trusted": true
      },
      "execution_count": 1,
      "outputs": [
        {
          "execution_count": 1,
          "output_type": "execute_result",
          "data": {
            "text/plain": "5"
          },
          "metadata": {}
        }
      ]
    },
    {
      "cell_type": "markdown",
      "source": "#### This is a list:\n\n1. Item 1\n1. Item 2\n1. Item 3\n\n\n#### This is a table:\n\n| Column A | Column B | Column C |\n| ------ | ------ | ------ |\n| Cell A1 | Cell B1 | Cell C1 |\n| Cell A2 | Cell B2 | Cell C2 |\n\n\n#### This is a link:\n\n__[ibm](htt://www.ibm.com)__",
      "metadata": {}
    },
    {
      "cell_type": "code",
      "source": "",
      "metadata": {},
      "execution_count": null,
      "outputs": []
    }
  ]
}